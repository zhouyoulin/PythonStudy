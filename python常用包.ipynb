{
 "cells": [
  {
   "cell_type": "markdown",
   "metadata": {},
   "source": [
    "# os 操作系统接口\n"
   ]
  },
  {
   "cell_type": "markdown",
   "metadata": {},
   "source": [
    "- 获取当前系统目录\n",
    "    - 一般用os来进行文件操作以及文件夹操作"
   ]
  },
  {
   "cell_type": "code",
   "execution_count": 2,
   "metadata": {},
   "outputs": [],
   "source": [
    "import os"
   ]
  },
  {
   "cell_type": "code",
   "execution_count": 4,
   "metadata": {},
   "outputs": [
    {
     "name": "stdout",
     "output_type": "stream",
     "text": [
      "/Users/zhouyoulin/Documents/python学习\n"
     ]
    }
   ],
   "source": [
    "print(os.getcwd())"
   ]
  },
  {
   "cell_type": "markdown",
   "metadata": {},
   "source": [
    "- 取代操作系统特定的分隔符"
   ]
  },
  {
   "cell_type": "code",
   "execution_count": 10,
   "metadata": {},
   "outputs": [
    {
     "name": "stdout",
     "output_type": "stream",
     "text": [
      "/\n"
     ]
    }
   ],
   "source": [
    "print(os.sep)"
   ]
  },
  {
   "cell_type": "markdown",
   "metadata": {},
   "source": [
    "- 当前操作系统工作平台"
   ]
  },
  {
   "cell_type": "code",
   "execution_count": 11,
   "metadata": {},
   "outputs": [
    {
     "name": "stdout",
     "output_type": "stream",
     "text": [
      "posix\n"
     ]
    }
   ],
   "source": [
    "print(os.name)"
   ]
  },
  {
   "cell_type": "markdown",
   "metadata": {},
   "source": [
    "- 获取指定环境变量"
   ]
  },
  {
   "cell_type": "code",
   "execution_count": 15,
   "metadata": {},
   "outputs": [
    {
     "name": "stdout",
     "output_type": "stream",
     "text": [
      "/Users/zhouyoulin/anaconda3/bin:/Users/zhouyoulin/anaconda3/bin:/Users/zhouyoulin/anaconda3/condabin:/usr/local/bin:/usr/bin:/bin:/usr/sbin:/sbin:/usr/local/share/dotnet:~/.dotnet/tools:/Library/Frameworks/Mono.framework/Versions/Current/Commands:/Applications/Xamarin Workbooks.app/Contents/SharedSupport/path-bin:/Users/zhouyoulin/Documents/android-sdk-macosx/tools:/Users/zhouyoulin/Documents/android-sdk-macosx/platform-tools:/Users/zhouyoulin/Documents/android-ndk-r16b:/usr/local/mysql/bin\n"
     ]
    }
   ],
   "source": [
    "print(os.getenv('PATH'))"
   ]
  },
  {
   "cell_type": "markdown",
   "metadata": {},
   "source": [
    "- 列出指定文件夹下的文件和目录"
   ]
  },
  {
   "cell_type": "code",
   "execution_count": 17,
   "metadata": {},
   "outputs": [
    {
     "name": "stdout",
     "output_type": "stream",
     "text": [
      "['Visual Studio Code.app', 'glfw-3.2.1', 'Applause', 'whsj_dev.p12', 'smartgit.lic', 'python学习', '.DS_Store', 'lua学习', 'whsj_dis.p12', '.localized', 'wow', 'aeslua-0.2.zip', 'excel', 'android-sdk-macosx', 'A2345E47-3FCA-4062-ACA6-7271BCE5BF36', 'android-ndk-r16b', '上海欢极网络SDK(国内版).zip', 'MuMu共享文件夹', 'res_shenhe', 'dldl_sdk_inhouse.mobileprovision', 'whjx-dis.p12', 'lua-5.3.5.tar.gz', 'HBuilder settings', 'confuse', 'SuperSDK', '终端存储的输出', 'QPayUtil.lua', 'whjx-dev.p12', 'readme.txt', 'dldl-inhouse.p12', 'confuseImage', 'qidea-cdkey-use', 'resin', 'dldl', 'aeslua-0.2', 'DlPublish', '上海欢极网络SDK(国内版)', 'lua-5.3.5', 'adt-bundle-mac-x86_64-20140702']\n"
     ]
    }
   ],
   "source": [
    "print(os.listdir('/Users/zhouyoulin/Documents'))"
   ]
  },
  {
   "cell_type": "code",
   "execution_count": 18,
   "metadata": {},
   "outputs": [],
   "source": [
    "# 创建文件夹\n",
    "os.mkdir('new')"
   ]
  },
  {
   "cell_type": "code",
   "execution_count": 20,
   "metadata": {},
   "outputs": [
    {
     "name": "stdout",
     "output_type": "stream",
     "text": [
      "True\n",
      "True\n"
     ]
    }
   ],
   "source": [
    "# 判断目录是否是文件夹\n",
    "print(os.path.isdir('/Users/zhouyoulin/Documents'))\n",
    "# 判断所给目录是否是文件\n",
    "print(os.path.isfile('/Users/zhouyoulin/Documents/readme.txt'))"
   ]
  },
  {
   "cell_type": "code",
   "execution_count": 22,
   "metadata": {},
   "outputs": [
    {
     "name": "stdout",
     "output_type": "stream",
     "text": [
      "('/Users/zhouyoulin', 'Docume')\n",
      "('/Users/zhouyoulin', 'Documents')\n",
      "('/Users/zhouyoulin/Documents', 'readme.txt')\n"
     ]
    }
   ],
   "source": [
    "# 分割目录和文件名\n",
    "# 代码证明该函数不会判断文件是否存在以及是否是文件\n",
    "# 返回为元祖\n",
    "print(os.path.split('/Users/zhouyoulin/Docume'))\n",
    "print(os.path.split('/Users/zhouyoulin/Documents'))\n",
    "print(os.path.split('/Users/zhouyoulin/Documents/readme.txt'))"
   ]
  },
  {
   "cell_type": "code",
   "execution_count": 24,
   "metadata": {},
   "outputs": [
    {
     "name": "stdout",
     "output_type": "stream",
     "text": [
      "('readme', '.txt')\n",
      "('/Users/zhouyoulin/Documents/readme', '.txt')\n"
     ]
    }
   ],
   "source": [
    "# 分割文件名和文件扩展名\n",
    "# 如果整个目录放入会把整个目录当作一个文件\n",
    "print(os.path.splitext('readme.txt'))\n",
    "print(os.path.splitext('/Users/zhouyoulin/Documents/readme.txt'))"
   ]
  },
  {
   "cell_type": "code",
   "execution_count": 26,
   "metadata": {},
   "outputs": [
    {
     "name": "stdout",
     "output_type": "stream",
     "text": [
      "/Users/zhouyoulin/readme.txt\n",
      "readme.txt\n",
      "/Users/zhouyoulin\n"
     ]
    }
   ],
   "source": [
    "# 连接文件夹和文件\n",
    "path = os.path.join('/Users/zhouyoulin','readme.txt')\n",
    "print(path)\n",
    "# 获取目录中的文件名\n",
    "print(os.path.basename(path))\n",
    "# 获取目录中的文件夹\n",
    "print(os.path.dirname(path))"
   ]
  },
  {
   "cell_type": "markdown",
   "metadata": {},
   "source": [
    "# calendar 日历模块"
   ]
  },
  {
   "cell_type": "code",
   "execution_count": 28,
   "metadata": {},
   "outputs": [],
   "source": [
    "import calendar"
   ]
  },
  {
   "cell_type": "code",
   "execution_count": 30,
   "metadata": {},
   "outputs": [
    {
     "name": "stdout",
     "output_type": "stream",
     "text": [
      "      May 2019\n",
      "Mo Tu We Th Fr Sa Su\n",
      "       1  2  3  4  5\n",
      " 6  7  8  9 10 11 12\n",
      "13 14 15 16 17 18 19\n",
      "20 21 22 23 24 25 26\n",
      "27 28 29 30 31\n",
      "\n"
     ]
    }
   ],
   "source": [
    "# 获取指定年月的日历\n",
    "print(calendar.month(2019,5))"
   ]
  },
  {
   "cell_type": "code",
   "execution_count": 35,
   "metadata": {},
   "outputs": [
    {
     "name": "stdout",
     "output_type": "stream",
     "text": [
      "False\n",
      "True\n",
      "12\n"
     ]
    }
   ],
   "source": [
    "# 判断某年是否是闰年\n",
    "print(calendar.isleap(2002))\n",
    "print(calendar.isleap(2000))\n",
    "\n",
    "# 返回一段年份之间的闰年个数\n",
    "print(calendar.leapdays(1970,2019))"
   ]
  },
  {
   "cell_type": "code",
   "execution_count": 55,
   "metadata": {},
   "outputs": [
    {
     "name": "stdout",
     "output_type": "stream",
     "text": [
      "                                         2019\n",
      "\n",
      "      January                          February                          March\n",
      "Mo Tu We Th Fr Sa Su             Mo Tu We Th Fr Sa Su             Mo Tu We Th Fr Sa Su\n",
      "    1  2  3  4  5  6                          1  2  3                          1  2  3\n",
      " 7  8  9 10 11 12 13              4  5  6  7  8  9 10              4  5  6  7  8  9 10\n",
      "14 15 16 17 18 19 20             11 12 13 14 15 16 17             11 12 13 14 15 16 17\n",
      "21 22 23 24 25 26 27             18 19 20 21 22 23 24             18 19 20 21 22 23 24\n",
      "28 29 30 31                      25 26 27 28                      25 26 27 28 29 30 31\n",
      "\n",
      "       April                             May                              June\n",
      "Mo Tu We Th Fr Sa Su             Mo Tu We Th Fr Sa Su             Mo Tu We Th Fr Sa Su\n",
      " 1  2  3  4  5  6  7                    1  2  3  4  5                             1  2\n",
      " 8  9 10 11 12 13 14              6  7  8  9 10 11 12              3  4  5  6  7  8  9\n",
      "15 16 17 18 19 20 21             13 14 15 16 17 18 19             10 11 12 13 14 15 16\n",
      "22 23 24 25 26 27 28             20 21 22 23 24 25 26             17 18 19 20 21 22 23\n",
      "29 30                            27 28 29 30 31                   24 25 26 27 28 29 30\n",
      "\n",
      "        July                            August                         September\n",
      "Mo Tu We Th Fr Sa Su             Mo Tu We Th Fr Sa Su             Mo Tu We Th Fr Sa Su\n",
      " 1  2  3  4  5  6  7                       1  2  3  4                                1\n",
      " 8  9 10 11 12 13 14              5  6  7  8  9 10 11              2  3  4  5  6  7  8\n",
      "15 16 17 18 19 20 21             12 13 14 15 16 17 18              9 10 11 12 13 14 15\n",
      "22 23 24 25 26 27 28             19 20 21 22 23 24 25             16 17 18 19 20 21 22\n",
      "29 30 31                         26 27 28 29 30 31                23 24 25 26 27 28 29\n",
      "                                                                  30\n",
      "\n",
      "      October                          November                         December\n",
      "Mo Tu We Th Fr Sa Su             Mo Tu We Th Fr Sa Su             Mo Tu We Th Fr Sa Su\n",
      "    1  2  3  4  5  6                          1  2  3                                1\n",
      " 7  8  9 10 11 12 13              4  5  6  7  8  9 10              2  3  4  5  6  7  8\n",
      "14 15 16 17 18 19 20             11 12 13 14 15 16 17              9 10 11 12 13 14 15\n",
      "21 22 23 24 25 26 27             18 19 20 21 22 23 24             16 17 18 19 20 21 22\n",
      "28 29 30 31                      25 26 27 28 29 30                23 24 25 26 27 28 29\n",
      "                                                                  30 31\n",
      "\n"
     ]
    }
   ],
   "source": [
    "# 打印某年的日历\n",
    "# w代表每日的间隔\n",
    "# l代表每周的行间距\n",
    "# c为横排每个月之间的间隔\n",
    "print(calendar.calendar(2019, c=13))"
   ]
  },
  {
   "cell_type": "code",
   "execution_count": 57,
   "metadata": {},
   "outputs": [
    {
     "name": "stdout",
     "output_type": "stream",
     "text": [
      "2\n"
     ]
    }
   ],
   "source": [
    "# 输出某天是周几\n",
    "# 0（周一）到6（周日）\n",
    "print(calendar.weekday(2019, 5, 8))"
   ]
  },
  {
   "cell_type": "markdown",
   "metadata": {},
   "source": [
    "# time模块"
   ]
  },
  {
   "cell_type": "code",
   "execution_count": 19,
   "metadata": {},
   "outputs": [
    {
     "name": "stdout",
     "output_type": "stream",
     "text": [
      "1557370702.5525591\n"
     ]
    }
   ],
   "source": [
    "import time\n",
    "# 获取当前时间戳，秒为单位\n",
    "print(time.time())"
   ]
  },
  {
   "cell_type": "code",
   "execution_count": 8,
   "metadata": {},
   "outputs": [
    {
     "name": "stdout",
     "output_type": "stream",
     "text": [
      "time.struct_time(tm_year=2019, tm_mon=5, tm_mday=9, tm_hour=10, tm_min=50, tm_sec=56, tm_wday=3, tm_yday=129, tm_isdst=0)\n",
      "time.struct_time(tm_year=2019, tm_mon=5, tm_mday=9, tm_hour=10, tm_min=50, tm_sec=56, tm_wday=3, tm_yday=129, tm_isdst=0)\n"
     ]
    }
   ],
   "source": [
    "# 获取当前时间，年，月，日，时，分，秒，星期几，当前年的多少天的元祖\n",
    "# 可以将时间戳转换成tuple类型时间\n",
    "print(time.localtime())\n",
    "print(time.localtime(time.time()))"
   ]
  },
  {
   "cell_type": "code",
   "execution_count": 14,
   "metadata": {},
   "outputs": [
    {
     "name": "stdout",
     "output_type": "stream",
     "text": [
      "Thu May  9 10:55:01 2019\n",
      "2019-05-09 10:55:01\n",
      "19/05/09 10:55:01\n",
      "2019--05--09 10--55--01\n"
     ]
    }
   ],
   "source": [
    "# 时间格式转换\n",
    "# 参数为tuple类型，\n",
    "print(time.asctime(time.localtime()))\n",
    "\n",
    "# 按自定义时间格式转换\n",
    "print(time.strftime('%Y-%m-%d %H:%M:%S', time.localtime()))\n",
    "print(time.strftime('%y/%m/%d %H:%M:%S', time.localtime()))\n",
    "print(time.strftime('%Y--%m--%d %H--%M--%S', time.localtime()))"
   ]
  },
  {
   "cell_type": "code",
   "execution_count": 22,
   "metadata": {},
   "outputs": [
    {
     "name": "stdout",
     "output_type": "stream",
     "text": [
      "time.struct_time(tm_year=2019, tm_mon=5, tm_mday=9, tm_hour=0, tm_min=0, tm_sec=0, tm_wday=3, tm_yday=129, tm_isdst=-1)\n",
      "1557331200.0\n"
     ]
    }
   ],
   "source": [
    "# 字符串时间可以转换成tuple时间\n",
    "# tuple类型的时间也可以转换成时间戳\n",
    "mtime = '2019-5-9'\n",
    "print(time.strptime(mtime, '%Y-%m-%d'))\n",
    "print(time.mktime(time.strptime(mtime, '%Y-%m-%d')))"
   ]
  },
  {
   "cell_type": "markdown",
   "metadata": {},
   "source": [
    "# datetime模块"
   ]
  },
  {
   "cell_type": "markdown",
   "metadata": {},
   "source": [
    "- datetime模块重新封装了time模块，提供了更多的接口。主要的类有，date,time,datetime,timedelta,tzinfo\n",
    "    - data类"
   ]
  },
  {
   "cell_type": "code",
   "execution_count": 2,
   "metadata": {},
   "outputs": [],
   "source": [
    "from datetime import date"
   ]
  },
  {
   "cell_type": "code",
   "execution_count": 3,
   "metadata": {},
   "outputs": [
    {
     "name": "stdout",
     "output_type": "stream",
     "text": [
      "9999-12-31\n",
      "0001-01-01\n",
      "2019-05-15\n",
      "2019-05-10\n"
     ]
    }
   ],
   "source": [
    "# date能表示的最大日期\n",
    "print(date.max)\n",
    "# date能表示的最小日期\n",
    "print(date.min)\n",
    "# 返回当前本地日期的一个date对象\n",
    "print(date.today())\n",
    "# 根据参数时间戳返回一个date对象，时间戳以秒为单位\n",
    "print(date.fromtimestamp(1557454240))"
   ]
  },
  {
   "cell_type": "code",
   "execution_count": 4,
   "metadata": {},
   "outputs": [
    {
     "name": "stdout",
     "output_type": "stream",
     "text": [
      "(2010, 23, 2)\n"
     ]
    },
    {
     "data": {
      "text/plain": [
       "'2010-06-08'"
      ]
     },
     "execution_count": 4,
     "metadata": {},
     "output_type": "execute_result"
    }
   ],
   "source": [
    "# date对象的初始化\n",
    "# 初始化有三个参数，年月日\n",
    "d1 = date(2019, 5, 10)\n",
    "# 可以通过year，month，day来获取年月日\n",
    "d1.year\n",
    "d1.month\n",
    "d1.day\n",
    "# replace可以更改当前的年月日并返回一个新的date对象\n",
    "d1 = d1.replace(2010, 6, 8)\n",
    "# 返回当前日期是星期几，0-6来表示\n",
    "d1.weekday()\n",
    "# 返回当前日期是星期几，1-7来表示\n",
    "d1.isoweekday()\n",
    "# isocalendar返回一个tuple（year,week,weekday）\n",
    "print(d1.isocalendar())\n",
    "# 返回一个\"YYYY-MM-DD\"的字符串\n",
    "d1.isoformat()"
   ]
  },
  {
   "cell_type": "markdown",
   "metadata": {},
   "source": [
    "- datetime中的time模块"
   ]
  },
  {
   "cell_type": "code",
   "execution_count": 5,
   "metadata": {},
   "outputs": [],
   "source": [
    "from datetime import time"
   ]
  },
  {
   "cell_type": "code",
   "execution_count": 29,
   "metadata": {},
   "outputs": [
    {
     "name": "stdout",
     "output_type": "stream",
     "text": [
      "19:50:30\n",
      "20-50-30\n",
      "None\n",
      "None\n"
     ]
    }
   ],
   "source": [
    "# time类中有5个参数\n",
    "# hour 小时， min 分钟， second 秒 microsecond 毫秒 tzoninfo 时区\n",
    "time1 = time(19,50,30)\n",
    "print(time1)\n",
    "# 修改时间并返回该类\n",
    "time1 = time1.replace(hour = 20)\n",
    "# 按format返回时间格式字符串\n",
    "print(time1.strftime('%H-%M-%S'))\n",
    "# 返回时区\n",
    "print(time1.tzname())\n",
    "# 返回时区偏移量\n",
    "print(time1.utcoffset())"
   ]
  },
  {
   "cell_type": "markdown",
   "metadata": {},
   "source": [
    "- datetime中的datetime模块"
   ]
  },
  {
   "cell_type": "code",
   "execution_count": 31,
   "metadata": {},
   "outputs": [],
   "source": [
    "from datetime import datetime"
   ]
  },
  {
   "cell_type": "code",
   "execution_count": 41,
   "metadata": {},
   "outputs": [
    {
     "name": "stdout",
     "output_type": "stream",
     "text": [
      "Wed May 15 16:38:57 2019\n",
      "2019-05-15\n",
      "16:38:57.126487\n",
      "2019-05-15 16:38:57\n"
     ]
    }
   ],
   "source": [
    "# 使用传入的时间创建一个datetime对象\n",
    "# year, month, day[, hour[, minute[, second[, microsecond[,tzinfo]]]]]\n",
    "datetime1 = datetime(2019,5,15)\n",
    "# 以当前时间创建一个datetime对象\n",
    "datetime1 = datetime.now()\n",
    "print(datetime1.ctime())\n",
    "# 返回日期部分\n",
    "print(datetime1.date())\n",
    "# 返回时间部分\n",
    "print(datetime1.time())\n",
    "# 按format格式返回字符串\n",
    "print(datetime1.strftime('%Y-%m-%d %H:%M:%S'))"
   ]
  },
  {
   "cell_type": "code",
   "execution_count": 73,
   "metadata": {},
   "outputs": [
    {
     "name": "stdout",
     "output_type": "stream",
     "text": [
      "0:00:00.000060\n"
     ]
    }
   ],
   "source": [
    "\n",
    "t1 = datetime.now()\n",
    "for i in range(1,100):\n",
    "    i = i\n",
    "t2 = datetime.now()\n",
    "print(t2-t1)"
   ]
  }
 ],
 "metadata": {
  "kernelspec": {
   "display_name": "Python 3",
   "language": "python",
   "name": "python3"
  },
  "language_info": {
   "codemirror_mode": {
    "name": "ipython",
    "version": 3
   },
   "file_extension": ".py",
   "mimetype": "text/x-python",
   "name": "python",
   "nbconvert_exporter": "python",
   "pygments_lexer": "ipython3",
   "version": "3.7.3"
  }
 },
 "nbformat": 4,
 "nbformat_minor": 2
}
